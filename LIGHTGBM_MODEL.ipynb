{
 "cells": [
  {
   "cell_type": "code",
   "execution_count": 1,
   "id": "f0676ba2",
   "metadata": {},
   "outputs": [],
   "source": [
    "import pandas as pd \n",
    "import datasist as ds\n",
    "import optuna\n",
    "import math\n",
    "import numpy as np \n",
    "import seaborn as sns \n",
    "import matplotlib.pyplot as plt\n",
    "from sklearn.model_selection import StratifiedKFold\n",
    "from sklearn.model_selection import *\n",
    "from sklearn.preprocessing import *\n",
    "from lightgbm import LGBMClassifier\n",
    "import warnings \n",
    "warnings.filterwarnings(\"ignore\")\n",
    "pd.set_option('display.max_columns', None)\n",
    "from sklearn.metrics import log_loss"
   ]
  },
  {
   "cell_type": "code",
   "execution_count": 2,
   "id": "6c9a7f63",
   "metadata": {},
   "outputs": [],
   "source": [
    "train = pd.read_csv(\"Train.csv\")\n",
    "test = pd.read_csv(\"Test.csv\")\n",
    "sub = pd.read_csv(\"sample_submission.csv\")\n",
    "Var =pd.read_csv(\"VariableDefinitions.csv\")"
   ]
  },
  {
   "cell_type": "code",
   "execution_count": 3,
   "id": "6610aefd",
   "metadata": {},
   "outputs": [
    {
     "name": "stdout",
     "output_type": "stream",
     "text": [
      "Null Values in Train\n",
      "2667894\n",
      "------------------------\n",
      "Null Values in Test\n",
      "665678\n",
      "------------------------\n",
      "Dup Values in Train\n",
      "False\n",
      "------------------------\n",
      "Dup Values in Test\n",
      "False\n",
      "------------------------\n"
     ]
    }
   ],
   "source": [
    "print('Null Values in Train')\n",
    "print(train.isnull().sum().sum())\n",
    "print('------------------------')\n",
    "\n",
    "print('Null Values in Test')\n",
    "print(test.isnull().sum().sum())\n",
    "print('------------------------')\n",
    "\n",
    "print('Dup Values in Train')\n",
    "print(train.duplicated().any())\n",
    "print('------------------------')\n",
    "\n",
    "print('Dup Values in Test')\n",
    "print(test.duplicated().any())\n",
    "print('------------------------')\n"
   ]
  },
  {
   "cell_type": "code",
   "execution_count": 4,
   "id": "be69eb9a",
   "metadata": {},
   "outputs": [
    {
     "name": "stdout",
     "output_type": "stream",
     "text": [
      "Memory usage of dataframe is 57.98 MB\n",
      "Memory usage after optimization is: 28.23 MB\n",
      "Decreased by 51.3%\n",
      "Memory usage of dataframe is 13.73 MB\n",
      "Memory usage after optimization is: 6.77 MB\n",
      "Decreased by 50.7%\n"
     ]
    }
   ],
   "source": [
    "def reduce_mem_usage(df):\n",
    "    \n",
    "    start_mem = df.memory_usage().sum() / 1024**2\n",
    "    print('Memory usage of dataframe is {:.2f} MB'.format(start_mem))\n",
    "\n",
    "    for col in df.columns:\n",
    "        col_type = df[col].dtype\n",
    "\n",
    "        if col_type.name == 'category':\n",
    "            continue\n",
    "\n",
    "        if col_type != object:\n",
    "            c_min = df[col].min()\n",
    "            c_max = df[col].max()\n",
    "            if str(col_type)[:3] == 'int':\n",
    "                if c_min > np.iinfo(np.int8).min and c_max < np.iinfo(np.int8).max:\n",
    "                    df[col] = df[col].astype(np.int8)\n",
    "                elif c_min > np.iinfo(np.int16).min and c_max < np.iinfo(np.int16).max:\n",
    "                    df[col] = df[col].astype(np.int16)\n",
    "                elif c_min > np.iinfo(np.int32).min and c_max < np.iinfo(np.int32).max:\n",
    "                    df[col] = df[col].astype(np.int32)\n",
    "                elif c_min > np.iinfo(np.int64).min and c_max < np.iinfo(np.int64).max:\n",
    "                    df[col] = df[col].astype(np.int64)  \n",
    "            else:\n",
    "                if c_min > np.finfo(np.float16).min and c_max < np.finfo(np.float16).max:\n",
    "                    df[col] = df[col].astype(np.float16)\n",
    "                elif c_min > np.finfo(np.float32).min and c_max < np.finfo(np.float32).max:\n",
    "                    df[col] = df[col].astype(np.float32)\n",
    "                else:\n",
    "                    df[col] = df[col].astype(np.float64)\n",
    "\n",
    "    end_mem = df.memory_usage().sum() / 1024**2\n",
    "    print('Memory usage after optimization is: {:.2f} MB'.format(end_mem))\n",
    "    print('Decreased by {:.1f}%'.format(100 * (start_mem - end_mem) / start_mem))\n",
    "\n",
    "    return df\n",
    "\n",
    "train = reduce_mem_usage(train)\n",
    "test = reduce_mem_usage(test)\n"
   ]
  },
  {
   "cell_type": "code",
   "execution_count": 5,
   "id": "394f4126",
   "metadata": {},
   "outputs": [],
   "source": [
    "def drop_col (data):\n",
    "    data = data.drop(columns=['ZONE1', 'ZONE2', 'user_id', 'MRG'])\n",
    "    return data\n",
    "\n",
    "train = drop_col(train)\n",
    "test = drop_col(test)"
   ]
  },
  {
   "cell_type": "code",
   "execution_count": 6,
   "id": "e4cd1d29",
   "metadata": {},
   "outputs": [],
   "source": [
    "cat_feats = ds.structdata.get_cat_feats(train)\n",
    "num_feats = ds.structdata.get_num_feats(train)"
   ]
  },
  {
   "cell_type": "code",
   "execution_count": 7,
   "id": "d9444f8c",
   "metadata": {},
   "outputs": [],
   "source": [
    "for col in cat_feats:\n",
    "    mode = train[col].mode()[0]\n",
    "    train[col] = train[col].fillna(mode)\n",
    "    "
   ]
  },
  {
   "cell_type": "code",
   "execution_count": 9,
   "id": "b39c6e70",
   "metadata": {},
   "outputs": [
    {
     "ename": "KeyError",
     "evalue": "'FREQUENCE_RECH'",
     "output_type": "error",
     "traceback": [
      "\u001b[1;31m---------------------------------------------------------------------------\u001b[0m",
      "\u001b[1;31mKeyError\u001b[0m                                  Traceback (most recent call last)",
      "Cell \u001b[1;32mIn[9], line 9\u001b[0m\n\u001b[0;32m      6\u001b[0m         data \u001b[38;5;241m=\u001b[39m data[col]\u001b[38;5;241m.\u001b[39mfillna(md)\n\u001b[0;32m      7\u001b[0m     \u001b[38;5;28;01mreturn\u001b[39;00m data\n\u001b[1;32m----> 9\u001b[0m train \u001b[38;5;241m=\u001b[39m \u001b[43mcategorical_imputation\u001b[49m\u001b[43m \u001b[49m\u001b[43m(\u001b[49m\u001b[43mtrain\u001b[49m\u001b[43m)\u001b[49m\n\u001b[0;32m     10\u001b[0m test \u001b[38;5;241m=\u001b[39m categorical_imputation (test)\n",
      "Cell \u001b[1;32mIn[9], line 5\u001b[0m, in \u001b[0;36mcategorical_imputation\u001b[1;34m(data)\u001b[0m\n\u001b[0;32m      1\u001b[0m \u001b[38;5;28;01mdef\u001b[39;00m \u001b[38;5;21mcategorical_imputation\u001b[39m (data):\n\u001b[0;32m      2\u001b[0m     \u001b[38;5;28;01mfor\u001b[39;00m col \u001b[38;5;129;01min\u001b[39;00m num_feats:\n\u001b[0;32m      3\u001b[0m        \u001b[38;5;66;03m# if col == 'TOP_PACK':\u001b[39;00m\n\u001b[0;32m      4\u001b[0m        \u001b[38;5;66;03m#     continue\u001b[39;00m\n\u001b[1;32m----> 5\u001b[0m         md \u001b[38;5;241m=\u001b[39m \u001b[43mdata\u001b[49m\u001b[43m[\u001b[49m\u001b[43mcol\u001b[49m\u001b[43m]\u001b[49m\u001b[38;5;241m.\u001b[39mmedian()\n\u001b[0;32m      6\u001b[0m         data \u001b[38;5;241m=\u001b[39m data[col]\u001b[38;5;241m.\u001b[39mfillna(md)\n\u001b[0;32m      7\u001b[0m     \u001b[38;5;28;01mreturn\u001b[39;00m data\n",
      "File \u001b[1;32m~\\anaconda3\\lib\\site-packages\\pandas\\core\\series.py:981\u001b[0m, in \u001b[0;36mSeries.__getitem__\u001b[1;34m(self, key)\u001b[0m\n\u001b[0;32m    978\u001b[0m     \u001b[38;5;28;01mreturn\u001b[39;00m \u001b[38;5;28mself\u001b[39m\u001b[38;5;241m.\u001b[39m_values[key]\n\u001b[0;32m    980\u001b[0m \u001b[38;5;28;01melif\u001b[39;00m key_is_scalar:\n\u001b[1;32m--> 981\u001b[0m     \u001b[38;5;28;01mreturn\u001b[39;00m \u001b[38;5;28;43mself\u001b[39;49m\u001b[38;5;241;43m.\u001b[39;49m\u001b[43m_get_value\u001b[49m\u001b[43m(\u001b[49m\u001b[43mkey\u001b[49m\u001b[43m)\u001b[49m\n\u001b[0;32m    983\u001b[0m \u001b[38;5;28;01mif\u001b[39;00m is_hashable(key):\n\u001b[0;32m    984\u001b[0m     \u001b[38;5;66;03m# Otherwise index.get_value will raise InvalidIndexError\u001b[39;00m\n\u001b[0;32m    985\u001b[0m     \u001b[38;5;28;01mtry\u001b[39;00m:\n\u001b[0;32m    986\u001b[0m         \u001b[38;5;66;03m# For labels that don't resolve as scalars like tuples and frozensets\u001b[39;00m\n",
      "File \u001b[1;32m~\\anaconda3\\lib\\site-packages\\pandas\\core\\series.py:1089\u001b[0m, in \u001b[0;36mSeries._get_value\u001b[1;34m(self, label, takeable)\u001b[0m\n\u001b[0;32m   1086\u001b[0m     \u001b[38;5;28;01mreturn\u001b[39;00m \u001b[38;5;28mself\u001b[39m\u001b[38;5;241m.\u001b[39m_values[label]\n\u001b[0;32m   1088\u001b[0m \u001b[38;5;66;03m# Similar to Index.get_value, but we do not fall back to positional\u001b[39;00m\n\u001b[1;32m-> 1089\u001b[0m loc \u001b[38;5;241m=\u001b[39m \u001b[38;5;28;43mself\u001b[39;49m\u001b[38;5;241;43m.\u001b[39;49m\u001b[43mindex\u001b[49m\u001b[38;5;241;43m.\u001b[39;49m\u001b[43mget_loc\u001b[49m\u001b[43m(\u001b[49m\u001b[43mlabel\u001b[49m\u001b[43m)\u001b[49m\n\u001b[0;32m   1090\u001b[0m \u001b[38;5;28;01mreturn\u001b[39;00m \u001b[38;5;28mself\u001b[39m\u001b[38;5;241m.\u001b[39mindex\u001b[38;5;241m.\u001b[39m_get_values_for_loc(\u001b[38;5;28mself\u001b[39m, loc, label)\n",
      "File \u001b[1;32m~\\anaconda3\\lib\\site-packages\\pandas\\core\\indexes\\range.py:395\u001b[0m, in \u001b[0;36mRangeIndex.get_loc\u001b[1;34m(self, key, method, tolerance)\u001b[0m\n\u001b[0;32m    393\u001b[0m             \u001b[38;5;28;01mraise\u001b[39;00m \u001b[38;5;167;01mKeyError\u001b[39;00m(key) \u001b[38;5;28;01mfrom\u001b[39;00m \u001b[38;5;21;01merr\u001b[39;00m\n\u001b[0;32m    394\u001b[0m     \u001b[38;5;28mself\u001b[39m\u001b[38;5;241m.\u001b[39m_check_indexing_error(key)\n\u001b[1;32m--> 395\u001b[0m     \u001b[38;5;28;01mraise\u001b[39;00m \u001b[38;5;167;01mKeyError\u001b[39;00m(key)\n\u001b[0;32m    396\u001b[0m \u001b[38;5;28;01mreturn\u001b[39;00m \u001b[38;5;28msuper\u001b[39m()\u001b[38;5;241m.\u001b[39mget_loc(key, method\u001b[38;5;241m=\u001b[39mmethod, tolerance\u001b[38;5;241m=\u001b[39mtolerance)\n",
      "\u001b[1;31mKeyError\u001b[0m: 'FREQUENCE_RECH'"
     ]
    }
   ],
   "source": [
    "def categorical_imputation (data):\n",
    "    for col in num_feats:\n",
    "       # if col == 'TOP_PACK':\n",
    "       #     continue\n",
    "        md = data[col].median()\n",
    "        data = data[col].fillna(md)\n",
    "    return data\n",
    "\n",
    "train = categorical_imputation (train)\n",
    "test = categorical_imputation (test)"
   ]
  },
  {
   "cell_type": "code",
   "execution_count": 8,
   "id": "1afa7432",
   "metadata": {},
   "outputs": [
    {
     "data": {
      "text/plain": [
       "REGION                 0\n",
       "TENURE                 0\n",
       "MONTANT           140277\n",
       "FREQUENCE_RECH    140277\n",
       "REVENUE           134663\n",
       "ARPU_SEGMENT      134663\n",
       "FREQUENCE         134663\n",
       "DATA_VOLUME       196854\n",
       "ON_NET            145819\n",
       "ORANGE            166317\n",
       "TIGO              239386\n",
       "REGULARITY             0\n",
       "TOP_PACK               0\n",
       "FREQ_TOP_PACK     167329\n",
       "CHURN                  0\n",
       "dtype: int64"
      ]
     },
     "execution_count": 8,
     "metadata": {},
     "output_type": "execute_result"
    }
   ],
   "source": [
    "train.isna().sum()"
   ]
  },
  {
   "cell_type": "code",
   "execution_count": 6,
   "id": "5d826fdf",
   "metadata": {},
   "outputs": [],
   "source": [
    "le = LabelEncoder()\n",
    "def cat_encoding (data):\n",
    "    tenure_map = {\n",
    "        \"K > 24 month\" :  7,\n",
    "        \"I 18-21 month\" :  5,\n",
    "        \"H 15-18 month\" :  4,\n",
    "        \"G 12-15 month\" :  3, \n",
    "        \"J 21-24 month\" :   6,  \n",
    "        \"F 9-12 month\"  :  2, \n",
    "        \"E 6-9 month\"   :  1,  \n",
    "        \"D 3-6 month\"   : 0\n",
    "        }\n",
    "    data['TENURE'] = data['TENURE'].map(tenure_map).astype(np.int8)\n",
    "    \n",
    "    for col in [ 'TOP_PACK' ,'REGION',]:\n",
    "        data[col] = le.fit_transform(data[[col]])\n",
    "    return data\n",
    "\n",
    "test = cat_encoding(test)\n",
    "train = cat_encoding(train)\n",
    "     "
   ]
  },
  {
   "cell_type": "code",
   "execution_count": 7,
   "id": "def96f97",
   "metadata": {},
   "outputs": [],
   "source": [
    "def missing_imputation (data):\n",
    "    for col in data.columns:\n",
    "        data[col] = data[col].fillna(0)\n",
    "    return data   \n",
    "\n",
    "train = missing_imputation(train)\n",
    "test = missing_imputation(test)"
   ]
  },
  {
   "cell_type": "code",
   "execution_count": 8,
   "id": "5f63db20",
   "metadata": {},
   "outputs": [],
   "source": [
    "X = train.drop('CHURN',axis=1)\n",
    "y = train['CHURN']\n",
    "from catboost import CatBoostClassifier, Pool\n",
    "\n",
    "SEED = 42\n",
    "n_splits = 10\n"
   ]
  },
  {
   "cell_type": "code",
   "execution_count": 9,
   "id": "d5dd3ee1",
   "metadata": {},
   "outputs": [],
   "source": [
    "SEED = 42\n",
    "n_splits = 10\n",
    "\n",
    "def objective(trial):\n",
    "    \n",
    "    params = dict(n_estimators = trial.suggest_int('n_estimators', 100, 2000),\n",
    "                   learning_rate = trial.suggest_float('learning_rate', 0.001, 1, log = True),\n",
    "                   max_depth = trial.suggest_int('max_depth', 5, 50),\n",
    "                   reg_alpha = trial.suggest_float('reg_alpha', 0.01, 10.0, log = True),\n",
    "                   reg_lambda = trial.suggest_float('reg_lambda', 0.01, 10.0, log = True),\n",
    "                   num_leaves = trial.suggest_int('num_leaves', 2, 100),\n",
    "                   subsample = trial.suggest_float('subsample', 0.2, 0.9),\n",
    "                   colsample_bytree = trial.suggest_float('colsample_bytree', 0.1, 0.9),\n",
    "                 )\n",
    "    \n",
    "    val_scores = []\n",
    "    \n",
    "    skf = StratifiedKFold(n_splits=n_splits, shuffle=True, random_state=SEED)\n",
    "\n",
    "    for train_index, test_index in skf.split(X, y):\n",
    "         X_train, X_test = X.iloc[train_index], X.iloc[test_index]\n",
    "         y_train, y_test = y.iloc[train_index], y.iloc[test_index]\n",
    "\n",
    "         model = LGBMClassifier(**params, random_state=SEED, verbose=-1,)\n",
    "         model.fit(X_train, y_train)\n",
    "\n",
    "         y_test_pred_proba = model.predict_proba(X_test)[:, 1]\n",
    "\n",
    "         val_auc = roc_auc_score(y_test, y_test_pred_proba)\n",
    "         val_scores.append(val_auc)\n",
    "\n",
    "    mean_val_auc = np.mean(val_scores)\n",
    "    return mean_val_auc\n"
   ]
  },
  {
   "cell_type": "code",
   "execution_count": 10,
   "id": "6f6fa966",
   "metadata": {},
   "outputs": [
    {
     "name": "stderr",
     "output_type": "stream",
     "text": [
      "[I 2024-08-07 11:03:25,325] A new study created in memory with name: no-name-3fec3206-518a-4d1e-acd6-8c5cd5cf5e18\n"
     ]
    },
    {
     "data": {
      "application/vnd.jupyter.widget-view+json": {
       "model_id": "8e6aff87e2b3400cad2da66a6526bfc6",
       "version_major": 2,
       "version_minor": 0
      },
      "text/plain": [
       "  0%|          | 0/50 [00:00<?, ?it/s]"
      ]
     },
     "metadata": {},
     "output_type": "display_data"
    },
    {
     "name": "stdout",
     "output_type": "stream",
     "text": [
      "[I 2024-08-07 11:05:24,811] Trial 0 finished with value: 0.9302921595701846 and parameters: {'n_estimators': 335, 'learning_rate': 0.012681882219278507, 'max_depth': 44, 'reg_alpha': 0.09325729368425037, 'reg_lambda': 0.2856119589823443, 'num_leaves': 32, 'subsample': 0.8401286065748981, 'colsample_bytree': 0.7479286563036366}. Best is trial 0 with value: 0.9302921595701846.\n",
      "[I 2024-08-07 11:09:27,510] Trial 1 finished with value: 0.9302438829745098 and parameters: {'n_estimators': 1007, 'learning_rate': 0.034719975638777704, 'max_depth': 14, 'reg_alpha': 0.41670594303065267, 'reg_lambda': 1.5662328537477583, 'num_leaves': 6, 'subsample': 0.20577976543669102, 'colsample_bytree': 0.4933748024413289}. Best is trial 0 with value: 0.9302921595701846.\n",
      "[I 2024-08-07 11:12:38,097] Trial 2 finished with value: 0.9248443910713962 and parameters: {'n_estimators': 828, 'learning_rate': 0.00512107774534061, 'max_depth': 24, 'reg_alpha': 0.47095262174069874, 'reg_lambda': 0.882573435521293, 'num_leaves': 17, 'subsample': 0.8776530086662819, 'colsample_bytree': 0.25966589778923554}. Best is trial 0 with value: 0.9302921595701846.\n",
      "[I 2024-08-07 11:15:32,170] Trial 3 finished with value: 0.906387276697297 and parameters: {'n_estimators': 1019, 'learning_rate': 0.0031165108427414923, 'max_depth': 23, 'reg_alpha': 1.0052184254822831, 'reg_lambda': 3.3904913626242488, 'num_leaves': 10, 'subsample': 0.34855984934439876, 'colsample_bytree': 0.10184168228425206}. Best is trial 0 with value: 0.9302921595701846.\n",
      "[I 2024-08-07 11:22:32,749] Trial 4 finished with value: 0.9297225760760854 and parameters: {'n_estimators': 1289, 'learning_rate': 0.022996157958713175, 'max_depth': 47, 'reg_alpha': 0.20611649419531086, 'reg_lambda': 2.12019115614967, 'num_leaves': 100, 'subsample': 0.46512512823560953, 'colsample_bytree': 0.26169985508805127}. Best is trial 0 with value: 0.9302921595701846.\n",
      "[I 2024-08-07 11:30:16,383] Trial 5 finished with value: 0.9304259723631005 and parameters: {'n_estimators': 1204, 'learning_rate': 0.00956621212061412, 'max_depth': 9, 'reg_alpha': 0.6448570585474639, 'reg_lambda': 0.057623536081711876, 'num_leaves': 85, 'subsample': 0.4429355123512422, 'colsample_bytree': 0.49232982427679894}. Best is trial 5 with value: 0.9304259723631005.\n",
      "[I 2024-08-07 11:37:14,687] Trial 6 finished with value: 0.9266281383356955 and parameters: {'n_estimators': 1757, 'learning_rate': 0.20056882601614842, 'max_depth': 9, 'reg_alpha': 0.09033615092228514, 'reg_lambda': 4.571184385636265, 'num_leaves': 41, 'subsample': 0.7995702152693438, 'colsample_bytree': 0.8003576903252034}. Best is trial 5 with value: 0.9304259723631005.\n",
      "[I 2024-08-07 11:42:33,302] Trial 7 finished with value: 0.9304873033236708 and parameters: {'n_estimators': 848, 'learning_rate': 0.007206873530869083, 'max_depth': 31, 'reg_alpha': 2.230768248501515, 'reg_lambda': 1.3052310458804206, 'num_leaves': 85, 'subsample': 0.4794802795220392, 'colsample_bytree': 0.8653827644282631}. Best is trial 7 with value: 0.9304873033236708.\n",
      "[I 2024-08-07 11:47:07,213] Trial 8 finished with value: 0.9302777913752406 and parameters: {'n_estimators': 766, 'learning_rate': 0.006142498957722077, 'max_depth': 12, 'reg_alpha': 0.02521723677416939, 'reg_lambda': 0.16705392977323427, 'num_leaves': 60, 'subsample': 0.3821172778672226, 'colsample_bytree': 0.6195770696496914}. Best is trial 7 with value: 0.9304873033236708.\n",
      "[I 2024-08-07 11:50:08,613] Trial 9 finished with value: 0.9251092847866438 and parameters: {'n_estimators': 750, 'learning_rate': 0.005981072829872041, 'max_depth': 37, 'reg_alpha': 4.316117912551988, 'reg_lambda': 0.014791435697763193, 'num_leaves': 11, 'subsample': 0.3733875003525535, 'colsample_bytree': 0.19858771772016573}. Best is trial 7 with value: 0.9304873033236708.\n",
      "[I 2024-08-07 11:50:58,352] Trial 10 finished with value: 0.9293836831447406 and parameters: {'n_estimators': 130, 'learning_rate': 0.001204797903354092, 'max_depth': 34, 'reg_alpha': 8.672871853829909, 'reg_lambda': 0.6337430356147246, 'num_leaves': 69, 'subsample': 0.6542116840569927, 'colsample_bytree': 0.8695940028250899}. Best is trial 7 with value: 0.9304873033236708.\n",
      "[I 2024-08-07 12:05:08,348] Trial 11 finished with value: 0.9264654506975403 and parameters: {'n_estimators': 1567, 'learning_rate': 0.1382779973627665, 'max_depth': 31, 'reg_alpha': 2.1603284636215108, 'reg_lambda': 0.0476395332059873, 'num_leaves': 87, 'subsample': 0.5894508997855905, 'colsample_bytree': 0.47335745076035396}. Best is trial 7 with value: 0.9304873033236708.\n",
      "[I 2024-08-07 12:17:11,382] Trial 12 finished with value: 0.9290514043125395 and parameters: {'n_estimators': 1371, 'learning_rate': 0.057562861868020024, 'max_depth': 18, 'reg_alpha': 1.75527859085073, 'reg_lambda': 0.07812444106027402, 'num_leaves': 80, 'subsample': 0.5059503115591805, 'colsample_bytree': 0.6220075003758866}. Best is trial 7 with value: 0.9304873033236708.\n",
      "[I 2024-08-07 12:21:17,800] Trial 13 finished with value: 0.9210667644725887 and parameters: {'n_estimators': 471, 'learning_rate': 0.7985987172754988, 'max_depth': 6, 'reg_alpha': 0.9606810450696258, 'reg_lambda': 0.012955104270464904, 'num_leaves': 99, 'subsample': 0.6576199341687263, 'colsample_bytree': 0.38316622275544954}. Best is trial 7 with value: 0.9304873033236708.\n",
      "[I 2024-08-07 12:43:40,264] Trial 14 finished with value: 0.9295528580817635 and parameters: {'n_estimators': 1952, 'learning_rate': 0.0012216799435361728, 'max_depth': 41, 'reg_alpha': 0.010645363314227831, 'reg_lambda': 0.09699367902056387, 'num_leaves': 76, 'subsample': 0.2330079624886337, 'colsample_bytree': 0.6261297806327086}. Best is trial 7 with value: 0.9304873033236708.\n",
      "[I 2024-08-07 12:55:07,363] Trial 15 finished with value: 0.9304485088108938 and parameters: {'n_estimators': 1260, 'learning_rate': 0.013778744238126648, 'max_depth': 28, 'reg_alpha': 9.338452431240045, 'reg_lambda': 0.03305746286782082, 'num_leaves': 55, 'subsample': 0.4623876909735258, 'colsample_bytree': 0.39042835443312257}. Best is trial 7 with value: 0.9304873033236708.\n",
      "[I 2024-08-07 13:03:47,792] Trial 16 finished with value: 0.9302891200731033 and parameters: {'n_estimators': 1466, 'learning_rate': 0.06872876485662728, 'max_depth': 28, 'reg_alpha': 9.156599677528083, 'reg_lambda': 8.9273951328186, 'num_leaves': 51, 'subsample': 0.5780885773097388, 'colsample_bytree': 0.35095156018283413}. Best is trial 7 with value: 0.9304873033236708.\n",
      "[I 2024-08-07 13:08:53,080] Trial 17 finished with value: 0.9294702876699944 and parameters: {'n_estimators': 560, 'learning_rate': 0.0028129781080482802, 'max_depth': 37, 'reg_alpha': 2.59772949013586, 'reg_lambda': 0.02822630426060396, 'num_leaves': 60, 'subsample': 0.7215084519251901, 'colsample_bytree': 0.6989619008966411}. Best is trial 7 with value: 0.9304873033236708.\n",
      "[I 2024-08-07 13:13:26,907] Trial 18 finished with value: 0.9304733156513386 and parameters: {'n_estimators': 1157, 'learning_rate': 0.01921251334870359, 'max_depth': 23, 'reg_alpha': 3.4721529630190817, 'reg_lambda': 0.45988266461272226, 'num_leaves': 27, 'subsample': 0.3073188369029738, 'colsample_bytree': 0.8858597555722703}. Best is trial 7 with value: 0.9304873033236708.\n",
      "[I 2024-08-07 13:16:50,512] Trial 19 finished with value: 0.9304704140866134 and parameters: {'n_estimators': 916, 'learning_rate': 0.031726885347566146, 'max_depth': 20, 'reg_alpha': 3.85935648550318, 'reg_lambda': 0.5290313452425155, 'num_leaves': 25, 'subsample': 0.29339547501307506, 'colsample_bytree': 0.8903355757667791}. Best is trial 7 with value: 0.9304873033236708.\n",
      "[I 2024-08-07 13:22:42,220] Trial 20 finished with value: 0.9218063643657839 and parameters: {'n_estimators': 1625, 'learning_rate': 0.39014467446263, 'max_depth': 50, 'reg_alpha': 0.16899282077266378, 'reg_lambda': 0.2616390159260628, 'num_leaves': 42, 'subsample': 0.32278965310039887, 'colsample_bytree': 0.8299578264496751}. Best is trial 7 with value: 0.9304873033236708.\n",
      "[I 2024-08-07 13:26:18,634] Trial 21 finished with value: 0.9304622622520304 and parameters: {'n_estimators': 1007, 'learning_rate': 0.027532604829759992, 'max_depth': 20, 'reg_alpha': 4.107337150130317, 'reg_lambda': 0.6617780651655591, 'num_leaves': 23, 'subsample': 0.29061760177026374, 'colsample_bytree': 0.8886353402434519}. Best is trial 7 with value: 0.9304873033236708.\n"
     ]
    },
    {
     "name": "stdout",
     "output_type": "stream",
     "text": [
      "[I 2024-08-07 13:29:59,952] Trial 22 finished with value: 0.9303032802952937 and parameters: {'n_estimators': 858, 'learning_rate': 0.06119604696796535, 'max_depth': 17, 'reg_alpha': 4.413444064939888, 'reg_lambda': 1.217251290470935, 'num_leaves': 30, 'subsample': 0.26761849607254584, 'colsample_bytree': 0.7549079861268323}. Best is trial 7 with value: 0.9304873033236708.\n",
      "[I 2024-08-07 13:34:27,521] Trial 23 finished with value: 0.9304411297857047 and parameters: {'n_estimators': 1178, 'learning_rate': 0.017182608573027256, 'max_depth': 24, 'reg_alpha': 1.3291160643142712, 'reg_lambda': 0.4316933573560171, 'num_leaves': 28, 'subsample': 0.41323661214175406, 'colsample_bytree': 0.8861333115823039}. Best is trial 7 with value: 0.9304873033236708.\n",
      "[I 2024-08-07 13:37:31,440] Trial 24 finished with value: 0.9303888977036596 and parameters: {'n_estimators': 692, 'learning_rate': 0.041236427390796276, 'max_depth': 31, 'reg_alpha': 2.913569865109489, 'reg_lambda': 0.15511576254186787, 'num_leaves': 41, 'subsample': 0.29866433127829095, 'colsample_bytree': 0.6980805779178786}. Best is trial 7 with value: 0.9304873033236708.\n",
      "[I 2024-08-07 13:40:52,242] Trial 25 finished with value: 0.930129158326513 and parameters: {'n_estimators': 920, 'learning_rate': 0.11468653829145592, 'max_depth': 21, 'reg_alpha': 6.005935640019191, 'reg_lambda': 2.5036762053124795, 'num_leaves': 20, 'subsample': 0.5160991464643333, 'colsample_bytree': 0.8044409717805727}. Best is trial 7 with value: 0.9304873033236708.\n",
      "[I 2024-08-07 13:44:14,327] Trial 26 finished with value: 0.9304286799865734 and parameters: {'n_estimators': 654, 'learning_rate': 0.008858763815129535, 'max_depth': 26, 'reg_alpha': 0.7574010976212529, 'reg_lambda': 0.4500283036981198, 'num_leaves': 36, 'subsample': 0.2618919855839111, 'colsample_bytree': 0.7079413304161442}. Best is trial 7 with value: 0.9304873033236708.\n",
      "[I 2024-08-07 13:50:48,426] Trial 27 finished with value: 0.930292843018559 and parameters: {'n_estimators': 1115, 'learning_rate': 0.002905846557157986, 'max_depth': 16, 'reg_alpha': 1.5945040339464671, 'reg_lambda': 1.0663629533800623, 'num_leaves': 49, 'subsample': 0.4042944927184025, 'colsample_bytree': 0.8240914430808062}. Best is trial 7 with value: 0.9304873033236708.\n",
      "[I 2024-08-07 13:51:51,888] Trial 28 finished with value: 0.9288252268339123 and parameters: {'n_estimators': 494, 'learning_rate': 0.021361475851142127, 'max_depth': 31, 'reg_alpha': 3.1126070344709373, 'reg_lambda': 0.19807974202426892, 'num_leaves': 2, 'subsample': 0.20311498416008672, 'colsample_bytree': 0.8947908382576651}. Best is trial 7 with value: 0.9304873033236708.\n",
      "[I 2024-08-07 13:53:42,754] Trial 29 finished with value: 0.9303183169675471 and parameters: {'n_estimators': 324, 'learning_rate': 0.011341672826684397, 'max_depth': 43, 'reg_alpha': 6.160405701073532, 'reg_lambda': 0.3805677585139091, 'num_leaves': 67, 'subsample': 0.3355724667045705, 'colsample_bytree': 0.7603673396661508}. Best is trial 7 with value: 0.9304873033236708.\n",
      "[I 2024-08-07 13:55:21,601] Trial 30 finished with value: 0.9304950367613017 and parameters: {'n_estimators': 349, 'learning_rate': 0.0400872530384243, 'max_depth': 20, 'reg_alpha': 0.10460130132423903, 'reg_lambda': 5.4258275202177035, 'num_leaves': 35, 'subsample': 0.5410956560247093, 'colsample_bytree': 0.6506071045369319}. Best is trial 30 with value: 0.9304950367613017.\n",
      "[I 2024-08-07 13:56:20,624] Trial 31 finished with value: 0.9303994586890472 and parameters: {'n_estimators': 225, 'learning_rate': 0.09565971556157699, 'max_depth': 20, 'reg_alpha': 0.06970312961204758, 'reg_lambda': 6.86375729774263, 'num_leaves': 27, 'subsample': 0.5298551327847962, 'colsample_bytree': 0.5690216432360711}. Best is trial 30 with value: 0.9304950367613017.\n",
      "[I 2024-08-07 13:58:06,338] Trial 32 finished with value: 0.9304758835051199 and parameters: {'n_estimators': 371, 'learning_rate': 0.0380344060284446, 'max_depth': 14, 'reg_alpha': 0.03519055420398399, 'reg_lambda': 1.6791555457253113, 'num_leaves': 35, 'subsample': 0.6504386388432438, 'colsample_bytree': 0.8394445720551215}. Best is trial 30 with value: 0.9304950367613017.\n",
      "[I 2024-08-07 13:59:55,927] Trial 33 finished with value: 0.9304982603906904 and parameters: {'n_estimators': 368, 'learning_rate': 0.04017835081831121, 'max_depth': 14, 'reg_alpha': 0.04963404533219628, 'reg_lambda': 4.3411385423883075, 'num_leaves': 38, 'subsample': 0.6570601583827456, 'colsample_bytree': 0.7668197690600279}. Best is trial 33 with value: 0.9304982603906904.\n",
      "[I 2024-08-07 14:01:37,831] Trial 34 finished with value: 0.9304956341618661 and parameters: {'n_estimators': 352, 'learning_rate': 0.04018214355645742, 'max_depth': 11, 'reg_alpha': 0.042304156691969234, 'reg_lambda': 4.357532912315716, 'num_leaves': 34, 'subsample': 0.6373366415037052, 'colsample_bytree': 0.7394913449297222}. Best is trial 33 with value: 0.9304982603906904.\n",
      "[I 2024-08-07 14:02:18,434] Trial 35 finished with value: 0.9302389067543982 and parameters: {'n_estimators': 102, 'learning_rate': 0.18733278975951248, 'max_depth': 12, 'reg_alpha': 0.04287123619435311, 'reg_lambda': 4.525482027225003, 'num_leaves': 47, 'subsample': 0.7131040261567959, 'colsample_bytree': 0.6499871922752659}. Best is trial 33 with value: 0.9304982603906904.\n",
      "[I 2024-08-07 14:03:42,704] Trial 36 finished with value: 0.9304814431921992 and parameters: {'n_estimators': 297, 'learning_rate': 0.04799111062602016, 'max_depth': 14, 'reg_alpha': 0.18772499628046393, 'reg_lambda': 3.2854941925400896, 'num_leaves': 36, 'subsample': 0.6003482382524601, 'colsample_bytree': 0.5581690318841075}. Best is trial 33 with value: 0.9304982603906904.\n",
      "[I 2024-08-07 14:05:10,565] Trial 37 finished with value: 0.9304107276407245 and parameters: {'n_estimators': 413, 'learning_rate': 0.08431359333436057, 'max_depth': 5, 'reg_alpha': 0.3170378160915349, 'reg_lambda': 5.503682763852488, 'num_leaves': 12, 'subsample': 0.7159289319279448, 'colsample_bytree': 0.7741695177023363}. Best is trial 33 with value: 0.9304982603906904.\n",
      "[I 2024-08-07 14:06:25,352] Trial 38 finished with value: 0.9304581403952511 and parameters: {'n_estimators': 227, 'learning_rate': 0.026815802828609667, 'max_depth': 9, 'reg_alpha': 0.016679730949121972, 'reg_lambda': 2.5490288882090266, 'num_leaves': 44, 'subsample': 0.7791525146347152, 'colsample_bytree': 0.6733553736114217}. Best is trial 33 with value: 0.9304982603906904.\n",
      "[I 2024-08-07 14:08:53,976] Trial 39 finished with value: 0.9287678786484832 and parameters: {'n_estimators': 575, 'learning_rate': 0.004756927136634144, 'max_depth': 10, 'reg_alpha': 0.11605889321031229, 'reg_lambda': 8.211053662864652, 'num_leaves': 19, 'subsample': 0.6219239507496891, 'colsample_bytree': 0.5675181008429526}. Best is trial 33 with value: 0.9304982603906904.\n",
      "[I 2024-08-07 14:10:18,228] Trial 40 finished with value: 0.9300454607959111 and parameters: {'n_estimators': 207, 'learning_rate': 0.00849900631133254, 'max_depth': 16, 'reg_alpha': 0.05796118275097186, 'reg_lambda': 1.7435625936693842, 'num_leaves': 93, 'subsample': 0.4850720406502431, 'colsample_bytree': 0.7387591551636852}. Best is trial 33 with value: 0.9304982603906904.\n",
      "[I 2024-08-07 14:11:45,348] Trial 41 finished with value: 0.9304459116704574 and parameters: {'n_estimators': 329, 'learning_rate': 0.049412230335483545, 'max_depth': 13, 'reg_alpha': 0.16781560469284973, 'reg_lambda': 3.502940736694567, 'num_leaves': 35, 'subsample': 0.5713511391843387, 'colsample_bytree': 0.5625300402568058}. Best is trial 33 with value: 0.9304982603906904.\n",
      "[I 2024-08-07 14:14:19,966] Trial 42 finished with value: 0.9303319306886021 and parameters: {'n_estimators': 603, 'learning_rate': 0.04747406451099985, 'max_depth': 7, 'reg_alpha': 0.10446019287727762, 'reg_lambda': 3.2483770859469847, 'num_leaves': 35, 'subsample': 0.6093921757828726, 'colsample_bytree': 0.5242726568559581}. Best is trial 33 with value: 0.9304982603906904.\n",
      "[I 2024-08-07 14:15:55,310] Trial 43 finished with value: 0.930262669021603 and parameters: {'n_estimators': 284, 'learning_rate': 0.014540530179463277, 'max_depth': 11, 'reg_alpha': 0.30820869542977997, 'reg_lambda': 6.002887494719268, 'num_leaves': 40, 'subsample': 0.546351274020387, 'colsample_bytree': 0.7156846973399188}. Best is trial 33 with value: 0.9304982603906904.\n"
     ]
    },
    {
     "name": "stdout",
     "output_type": "stream",
     "text": [
      "[I 2024-08-07 14:18:19,245] Trial 44 finished with value: 0.9301270315261391 and parameters: {'n_estimators': 473, 'learning_rate': 0.07560878880933035, 'max_depth': 14, 'reg_alpha': 0.037795031501048175, 'reg_lambda': 3.375438112384999, 'num_leaves': 56, 'subsample': 0.6846204923097199, 'colsample_bytree': 0.4470039263519516}. Best is trial 33 with value: 0.9304982603906904.\n",
      "[I 2024-08-07 14:20:02,259] Trial 45 finished with value: 0.9297102462938254 and parameters: {'n_estimators': 404, 'learning_rate': 0.15391711416712417, 'max_depth': 8, 'reg_alpha': 0.0677807970373452, 'reg_lambda': 4.308659207399167, 'num_leaves': 46, 'subsample': 0.7590243171476571, 'colsample_bytree': 0.6634278274442196}. Best is trial 33 with value: 0.9304982603906904.\n",
      "[I 2024-08-07 14:23:13,996] Trial 46 finished with value: 0.9304386120279998 and parameters: {'n_estimators': 762, 'learning_rate': 0.03887742260130519, 'max_depth': 18, 'reg_alpha': 0.023335403202595528, 'reg_lambda': 9.706552589754853, 'num_leaves': 31, 'subsample': 0.8485090919524334, 'colsample_bytree': 0.7894546992617216}. Best is trial 33 with value: 0.9304982603906904.\n",
      "[I 2024-08-07 14:24:03,485] Trial 47 finished with value: 0.925412930189534 and parameters: {'n_estimators': 188, 'learning_rate': 0.0016271812202056314, 'max_depth': 34, 'reg_alpha': 0.13513677918564754, 'reg_lambda': 2.3828035880828615, 'num_leaves': 15, 'subsample': 0.6313167262503084, 'colsample_bytree': 0.593783407427345}. Best is trial 33 with value: 0.9304982603906904.\n",
      "[I 2024-08-07 14:25:07,179] Trial 48 finished with value: 0.928342332131409 and parameters: {'n_estimators': 290, 'learning_rate': 0.3524541693227455, 'max_depth': 26, 'reg_alpha': 0.27368461542031425, 'reg_lambda': 1.42220797612109, 'num_leaves': 38, 'subsample': 0.5632334223475135, 'colsample_bytree': 0.5145760646609249}. Best is trial 33 with value: 0.9304982603906904.\n",
      "[I 2024-08-07 14:27:43,601] Trial 49 finished with value: 0.9304094395943207 and parameters: {'n_estimators': 532, 'learning_rate': 0.03021632337934633, 'max_depth': 14, 'reg_alpha': 0.47199951853189487, 'reg_lambda': 0.7660965500394112, 'num_leaves': 54, 'subsample': 0.4414207057185064, 'colsample_bytree': 0.839640916904135}. Best is trial 33 with value: 0.9304982603906904.\n"
     ]
    }
   ],
   "source": [
    "study = optuna.create_study(direction='maximize')  \n",
    "study.optimize(objective, n_trials=50, show_progress_bar=True) \n"
   ]
  },
  {
   "cell_type": "code",
   "execution_count": 9,
   "id": "68c7b435",
   "metadata": {},
   "outputs": [
    {
     "ename": "NameError",
     "evalue": "name 'study' is not defined",
     "output_type": "error",
     "traceback": [
      "\u001b[1;31m---------------------------------------------------------------------------\u001b[0m",
      "\u001b[1;31mNameError\u001b[0m                                 Traceback (most recent call last)",
      "Cell \u001b[1;32mIn[9], line 1\u001b[0m\n\u001b[1;32m----> 1\u001b[0m best_params \u001b[38;5;241m=\u001b[39m \u001b[43mstudy\u001b[49m\u001b[38;5;241m.\u001b[39mbest_params\n\u001b[0;32m      2\u001b[0m \u001b[38;5;28mprint\u001b[39m(\u001b[38;5;124m\"\u001b[39m\u001b[38;5;124mBest parameters:\u001b[39m\u001b[38;5;124m\"\u001b[39m, best_params)\n",
      "\u001b[1;31mNameError\u001b[0m: name 'study' is not defined"
     ]
    }
   ],
   "source": [
    "best_params = study.best_params\n",
    "print(\"Best parameters:\", best_params)"
   ]
  },
  {
   "cell_type": "code",
   "execution_count": 9,
   "id": "4b0c024a",
   "metadata": {},
   "outputs": [],
   "source": [
    "best_params = {'n_estimators': 368, \n",
    "               'learning_rate': 0.04017835081831121, \n",
    "               'max_depth': 14,\n",
    "               'reg_alpha': 0.04963404533219628, \n",
    "               'reg_lambda': 4.3411385423883075, \n",
    "               'num_leaves': 38, \n",
    "               'subsample': 0.6570601583827456, \n",
    "               'colsample_bytree': 0.7668197690600279}"
   ]
  },
  {
   "cell_type": "code",
   "execution_count": 10,
   "id": "a88b2747",
   "metadata": {},
   "outputs": [
    {
     "name": "stdout",
     "output_type": "stream",
     "text": [
      "[LightGBM] [Info] Number of positive: 67360, number of negative: 292640\n",
      "[LightGBM] [Info] Auto-choosing row-wise multi-threading, the overhead of testing was 0.030031 seconds.\n",
      "You can set `force_row_wise=true` to remove the overhead.\n",
      "And if memory is not enough, you can set `force_col_wise=true`.\n",
      "[LightGBM] [Info] Total Bins 2279\n",
      "[LightGBM] [Info] Number of data points in the train set: 360000, number of used features: 14\n",
      "[LightGBM] [Info] [binary:BoostFromScore]: pavg=0.187111 -> initscore=-1.468892\n",
      "[LightGBM] [Info] Start training from score -1.468892\n",
      "\n",
      "---- Fold 1: Log Loss Score: 0.251760\n",
      "\n",
      "[LightGBM] [Info] Number of positive: 67360, number of negative: 292640\n",
      "[LightGBM] [Info] Auto-choosing row-wise multi-threading, the overhead of testing was 0.019120 seconds.\n",
      "You can set `force_row_wise=true` to remove the overhead.\n",
      "And if memory is not enough, you can set `force_col_wise=true`.\n",
      "[LightGBM] [Info] Total Bins 2281\n",
      "[LightGBM] [Info] Number of data points in the train set: 360000, number of used features: 14\n",
      "[LightGBM] [Info] [binary:BoostFromScore]: pavg=0.187111 -> initscore=-1.468892\n",
      "[LightGBM] [Info] Start training from score -1.468892\n",
      "\n",
      "---- Fold 2: Log Loss Score: 0.252249\n",
      "\n",
      "[LightGBM] [Info] Number of positive: 67360, number of negative: 292640\n",
      "[LightGBM] [Info] Auto-choosing row-wise multi-threading, the overhead of testing was 0.015621 seconds.\n",
      "You can set `force_row_wise=true` to remove the overhead.\n",
      "And if memory is not enough, you can set `force_col_wise=true`.\n",
      "[LightGBM] [Info] Total Bins 2280\n",
      "[LightGBM] [Info] Number of data points in the train set: 360000, number of used features: 14\n",
      "[LightGBM] [Info] [binary:BoostFromScore]: pavg=0.187111 -> initscore=-1.468892\n",
      "[LightGBM] [Info] Start training from score -1.468892\n",
      "\n",
      "---- Fold 3: Log Loss Score: 0.253780\n",
      "\n",
      "[LightGBM] [Info] Number of positive: 67360, number of negative: 292640\n",
      "[LightGBM] [Info] Auto-choosing row-wise multi-threading, the overhead of testing was 0.032302 seconds.\n",
      "You can set `force_row_wise=true` to remove the overhead.\n",
      "And if memory is not enough, you can set `force_col_wise=true`.\n",
      "[LightGBM] [Info] Total Bins 2277\n",
      "[LightGBM] [Info] Number of data points in the train set: 360000, number of used features: 14\n",
      "[LightGBM] [Info] [binary:BoostFromScore]: pavg=0.187111 -> initscore=-1.468892\n",
      "[LightGBM] [Info] Start training from score -1.468892\n",
      "\n",
      "---- Fold 4: Log Loss Score: 0.253218\n",
      "\n",
      "[LightGBM] [Info] Number of positive: 67360, number of negative: 292640\n",
      "[LightGBM] [Info] Auto-choosing row-wise multi-threading, the overhead of testing was 0.019538 seconds.\n",
      "You can set `force_row_wise=true` to remove the overhead.\n",
      "And if memory is not enough, you can set `force_col_wise=true`.\n",
      "[LightGBM] [Info] Total Bins 2276\n",
      "[LightGBM] [Info] Number of data points in the train set: 360000, number of used features: 14\n",
      "[LightGBM] [Info] [binary:BoostFromScore]: pavg=0.187111 -> initscore=-1.468892\n",
      "[LightGBM] [Info] Start training from score -1.468892\n",
      "\n",
      "---- Fold 5: Log Loss Score: 0.252035\n",
      "\n",
      "[LightGBM] [Info] Number of positive: 67360, number of negative: 292640\n",
      "[LightGBM] [Info] Auto-choosing row-wise multi-threading, the overhead of testing was 0.019253 seconds.\n",
      "You can set `force_row_wise=true` to remove the overhead.\n",
      "And if memory is not enough, you can set `force_col_wise=true`.\n",
      "[LightGBM] [Info] Total Bins 2281\n",
      "[LightGBM] [Info] Number of data points in the train set: 360000, number of used features: 14\n",
      "[LightGBM] [Info] [binary:BoostFromScore]: pavg=0.187111 -> initscore=-1.468892\n",
      "[LightGBM] [Info] Start training from score -1.468892\n",
      "\n",
      "---- Fold 6: Log Loss Score: 0.251437\n",
      "\n",
      "[LightGBM] [Info] Number of positive: 67359, number of negative: 292641\n",
      "[LightGBM] [Info] Auto-choosing row-wise multi-threading, the overhead of testing was 0.019259 seconds.\n",
      "You can set `force_row_wise=true` to remove the overhead.\n",
      "And if memory is not enough, you can set `force_col_wise=true`.\n",
      "[LightGBM] [Info] Total Bins 2284\n",
      "[LightGBM] [Info] Number of data points in the train set: 360000, number of used features: 14\n",
      "[LightGBM] [Info] [binary:BoostFromScore]: pavg=0.187108 -> initscore=-1.468910\n",
      "[LightGBM] [Info] Start training from score -1.468910\n",
      "\n",
      "---- Fold 7: Log Loss Score: 0.255451\n",
      "\n",
      "[LightGBM] [Info] Number of positive: 67359, number of negative: 292641\n",
      "[LightGBM] [Info] Auto-choosing row-wise multi-threading, the overhead of testing was 0.025316 seconds.\n",
      "You can set `force_row_wise=true` to remove the overhead.\n",
      "And if memory is not enough, you can set `force_col_wise=true`.\n",
      "[LightGBM] [Info] Total Bins 2277\n",
      "[LightGBM] [Info] Number of data points in the train set: 360000, number of used features: 14\n",
      "[LightGBM] [Info] [binary:BoostFromScore]: pavg=0.187108 -> initscore=-1.468910\n",
      "[LightGBM] [Info] Start training from score -1.468910\n",
      "\n",
      "---- Fold 8: Log Loss Score: 0.253894\n",
      "\n",
      "[LightGBM] [Info] Number of positive: 67359, number of negative: 292641\n",
      "[LightGBM] [Info] Auto-choosing row-wise multi-threading, the overhead of testing was 0.018370 seconds.\n",
      "You can set `force_row_wise=true` to remove the overhead.\n",
      "And if memory is not enough, you can set `force_col_wise=true`.\n",
      "[LightGBM] [Info] Total Bins 2275\n",
      "[LightGBM] [Info] Number of data points in the train set: 360000, number of used features: 14\n",
      "[LightGBM] [Info] [binary:BoostFromScore]: pavg=0.187108 -> initscore=-1.468910\n",
      "[LightGBM] [Info] Start training from score -1.468910\n",
      "\n",
      "---- Fold 9: Log Loss Score: 0.248116\n",
      "\n",
      "[LightGBM] [Info] Number of positive: 67359, number of negative: 292641\n",
      "[LightGBM] [Info] Auto-choosing row-wise multi-threading, the overhead of testing was 0.017441 seconds.\n",
      "You can set `force_row_wise=true` to remove the overhead.\n",
      "And if memory is not enough, you can set `force_col_wise=true`.\n",
      "[LightGBM] [Info] Total Bins 2280\n",
      "[LightGBM] [Info] Number of data points in the train set: 360000, number of used features: 14\n",
      "[LightGBM] [Info] [binary:BoostFromScore]: pavg=0.187108 -> initscore=-1.468910\n",
      "[LightGBM] [Info] Start training from score -1.468910\n",
      "\n",
      "---- Fold 10: Log Loss Score: 0.253774\n",
      "\n",
      "\n",
      "---> Avg Log Loss Score: 0.252571 ± 0.001886\n",
      "\n"
     ]
    }
   ],
   "source": [
    "oof_score = []\n",
    "test_oof = [ ]\n",
    "\n",
    "skf = StratifiedKFold(n_splits=10, shuffle=True, random_state=42 )\n",
    "for fold, (train_idx, test_idx) in enumerate (skf.split(X,y)):\n",
    "    \n",
    "    x_train, y_train = X.iloc[train_idx], y.iloc[train_idx]\n",
    "    x_test, y_test = X.iloc[test_idx], y.iloc[test_idx]\n",
    "    \n",
    " \n",
    "    model = LGBMClassifier(**best_params)\n",
    "    model.fit(x_train, y_train ,eval_set=[(x_test, y_test)],\n",
    "             #early_stopping_rounds=100,\n",
    "             )\n",
    "    \n",
    "    y_val = model.predict_proba(x_test, num_iteration=model.best_iteration_ )[:,1]\n",
    "    score = log_loss(y_test, y_val)\n",
    "    oof_score.append(score)\n",
    "    \n",
    "    test_pred = model.predict_proba(test)[:,1]\n",
    "    test_oof.append(test_pred)\n",
    "    print(f\"\\n---- Fold {fold+1 }: Log Loss Score: {score:.6f}\\n\")\n",
    "    \n",
    "oof_score_mean = np.mean(oof_score) \n",
    "oof_score_std = np.std(oof_score)\n",
    "print(f\"\\n---> Avg Log Loss Score: {oof_score_mean:.6f} \\xB1 {oof_score_std:.6f}\\n\")\n"
   ]
  },
  {
   "cell_type": "code",
   "execution_count": 11,
   "id": "3845b9fa",
   "metadata": {},
   "outputs": [],
   "source": [
    "test_pred_lgbm =  np.mean(test_oof, axis=0)"
   ]
  },
  {
   "cell_type": "code",
   "execution_count": 12,
   "id": "ec99f88b",
   "metadata": {},
   "outputs": [
    {
     "data": {
      "text/html": [
       "<div>\n",
       "<style scoped>\n",
       "    .dataframe tbody tr th:only-of-type {\n",
       "        vertical-align: middle;\n",
       "    }\n",
       "\n",
       "    .dataframe tbody tr th {\n",
       "        vertical-align: top;\n",
       "    }\n",
       "\n",
       "    .dataframe thead th {\n",
       "        text-align: right;\n",
       "    }\n",
       "</style>\n",
       "<table border=\"1\" class=\"dataframe\">\n",
       "  <thead>\n",
       "    <tr style=\"text-align: right;\">\n",
       "      <th></th>\n",
       "      <th>user_id</th>\n",
       "      <th>CHURN</th>\n",
       "    </tr>\n",
       "  </thead>\n",
       "  <tbody>\n",
       "    <tr>\n",
       "      <th>0</th>\n",
       "      <td>af900d87e73b7ff6509d2203df4704a98aa5f2a6</td>\n",
       "      <td>0.766602</td>\n",
       "    </tr>\n",
       "    <tr>\n",
       "      <th>1</th>\n",
       "      <td>5335efd940280b82143272275637d1e65d37eadb</td>\n",
       "      <td>0.645020</td>\n",
       "    </tr>\n",
       "    <tr>\n",
       "      <th>2</th>\n",
       "      <td>a581f4fa08677c26f83f643248c667e241043086</td>\n",
       "      <td>0.112793</td>\n",
       "    </tr>\n",
       "    <tr>\n",
       "      <th>3</th>\n",
       "      <td>64f67177d0775262b8087a9e2e3b8061b6324ae6</td>\n",
       "      <td>0.001129</td>\n",
       "    </tr>\n",
       "    <tr>\n",
       "      <th>4</th>\n",
       "      <td>0d6009a4594c4be22449b8d9cc01a0bcea98faea</td>\n",
       "      <td>0.000280</td>\n",
       "    </tr>\n",
       "    <tr>\n",
       "      <th>5</th>\n",
       "      <td>43dc48b3447e69dd2160b05de193fc1694edd54a</td>\n",
       "      <td>0.330078</td>\n",
       "    </tr>\n",
       "    <tr>\n",
       "      <th>6</th>\n",
       "      <td>1db4bb61710bb25063217297d8cd8c4d4cdfcbbc</td>\n",
       "      <td>0.010612</td>\n",
       "    </tr>\n",
       "    <tr>\n",
       "      <th>7</th>\n",
       "      <td>37f4f47f7d359015945946cf6762782c4026836a</td>\n",
       "      <td>0.549316</td>\n",
       "    </tr>\n",
       "    <tr>\n",
       "      <th>8</th>\n",
       "      <td>e74408b87372327c95136af36ec4155219e07269</td>\n",
       "      <td>0.000693</td>\n",
       "    </tr>\n",
       "    <tr>\n",
       "      <th>9</th>\n",
       "      <td>7e6d0759abf78b490862e77284ace9dd9ae42630</td>\n",
       "      <td>0.030167</td>\n",
       "    </tr>\n",
       "    <tr>\n",
       "      <th>10</th>\n",
       "      <td>d0dd55a402cb2301ccf38dcf0c29655df1d4f2c7</td>\n",
       "      <td>0.003231</td>\n",
       "    </tr>\n",
       "    <tr>\n",
       "      <th>11</th>\n",
       "      <td>17b77e731eb950e7b0b6bc211c3ff7fedad7319a</td>\n",
       "      <td>0.014336</td>\n",
       "    </tr>\n",
       "    <tr>\n",
       "      <th>12</th>\n",
       "      <td>2cedd9e94f31671b2e3f82ea4d3e5ca659707bb3</td>\n",
       "      <td>0.000544</td>\n",
       "    </tr>\n",
       "    <tr>\n",
       "      <th>13</th>\n",
       "      <td>c96026bf36578163738c5dfdc9159b6d5f5e0501</td>\n",
       "      <td>0.596680</td>\n",
       "    </tr>\n",
       "    <tr>\n",
       "      <th>14</th>\n",
       "      <td>d59fb0025a225075db9ac49edfa34a39e1a27441</td>\n",
       "      <td>0.001817</td>\n",
       "    </tr>\n",
       "    <tr>\n",
       "      <th>15</th>\n",
       "      <td>02f89f21cd941618e2484e22c704199f4aa565e8</td>\n",
       "      <td>0.549316</td>\n",
       "    </tr>\n",
       "    <tr>\n",
       "      <th>16</th>\n",
       "      <td>e4a9b790121d4e0fa06e5430a7ba11906e13dd36</td>\n",
       "      <td>0.007427</td>\n",
       "    </tr>\n",
       "    <tr>\n",
       "      <th>17</th>\n",
       "      <td>eb08c76bd3c26b8e3569df003b0ad06fe4018a76</td>\n",
       "      <td>0.000254</td>\n",
       "    </tr>\n",
       "    <tr>\n",
       "      <th>18</th>\n",
       "      <td>666a4ecdf96f688fd2b16ef4b7c035d0ac0e8489</td>\n",
       "      <td>0.001346</td>\n",
       "    </tr>\n",
       "    <tr>\n",
       "      <th>19</th>\n",
       "      <td>8441e0873c1b5f2652ff490f66bfc0376a9fa45d</td>\n",
       "      <td>0.766602</td>\n",
       "    </tr>\n",
       "  </tbody>\n",
       "</table>\n",
       "</div>"
      ],
      "text/plain": [
       "                                     user_id     CHURN\n",
       "0   af900d87e73b7ff6509d2203df4704a98aa5f2a6  0.766602\n",
       "1   5335efd940280b82143272275637d1e65d37eadb  0.645020\n",
       "2   a581f4fa08677c26f83f643248c667e241043086  0.112793\n",
       "3   64f67177d0775262b8087a9e2e3b8061b6324ae6  0.001129\n",
       "4   0d6009a4594c4be22449b8d9cc01a0bcea98faea  0.000280\n",
       "5   43dc48b3447e69dd2160b05de193fc1694edd54a  0.330078\n",
       "6   1db4bb61710bb25063217297d8cd8c4d4cdfcbbc  0.010612\n",
       "7   37f4f47f7d359015945946cf6762782c4026836a  0.549316\n",
       "8   e74408b87372327c95136af36ec4155219e07269  0.000693\n",
       "9   7e6d0759abf78b490862e77284ace9dd9ae42630  0.030167\n",
       "10  d0dd55a402cb2301ccf38dcf0c29655df1d4f2c7  0.003231\n",
       "11  17b77e731eb950e7b0b6bc211c3ff7fedad7319a  0.014336\n",
       "12  2cedd9e94f31671b2e3f82ea4d3e5ca659707bb3  0.000544\n",
       "13  c96026bf36578163738c5dfdc9159b6d5f5e0501  0.596680\n",
       "14  d59fb0025a225075db9ac49edfa34a39e1a27441  0.001817\n",
       "15  02f89f21cd941618e2484e22c704199f4aa565e8  0.549316\n",
       "16  e4a9b790121d4e0fa06e5430a7ba11906e13dd36  0.007427\n",
       "17  eb08c76bd3c26b8e3569df003b0ad06fe4018a76  0.000254\n",
       "18  666a4ecdf96f688fd2b16ef4b7c035d0ac0e8489  0.001346\n",
       "19  8441e0873c1b5f2652ff490f66bfc0376a9fa45d  0.766602"
      ]
     },
     "execution_count": 12,
     "metadata": {},
     "output_type": "execute_result"
    }
   ],
   "source": [
    "sample_sub = pd.read_csv('sample_submission.csv')\n",
    "sample_sub['CHURN'] = test_pred_lgbm.astype(np.float16)\n",
    "sample_sub.to_csv('submission_2nd_lgbm.csv', index=False)\n",
    "sample_sub.head(20)"
   ]
  },
  {
   "cell_type": "code",
   "execution_count": null,
   "id": "a156aa22",
   "metadata": {},
   "outputs": [],
   "source": []
  },
  {
   "cell_type": "code",
   "execution_count": null,
   "id": "82f3bc24",
   "metadata": {},
   "outputs": [],
   "source": []
  },
  {
   "cell_type": "code",
   "execution_count": 13,
   "id": "8d765c57",
   "metadata": {},
   "outputs": [
    {
     "data": {
      "image/png": "[encoded data removed]",
      "text/plain": [
       "<Figure size 2000x1200 with 1 Axes>"
      ]
     },
     "metadata": {},
     "output_type": "display_data"
    }
   ],
   "source": [
    "feature_importance_df = pd.DataFrame(model.feature_importances_, columns=['importance'])\n",
    "feature_importance_df['feature'] = x_train.columns\n",
    "\n",
    "plt.figure(figsize=(20, 12));\n",
    "sns.barplot(x=\"importance\", y=\"feature\", data=feature_importance_df.sort_values(by = ['importance'], ascending = False).head(50))\n",
    "plt.title('LGBMClassifier features importance (top n):');"
   ]
  },
  {
   "cell_type": "code",
   "execution_count": 15,
   "id": "d255d792",
   "metadata": {},
   "outputs": [
    {
     "data": {
      "text/plain": [
       "0"
      ]
     },
     "execution_count": 15,
     "metadata": {},
     "output_type": "execute_result"
    }
   ],
   "source": [
    "train['TENURE']"
   ]
  },
  {
   "cell_type": "code",
   "execution_count": null,
   "id": "705f6aa7",
   "metadata": {},
   "outputs": [],
   "source": []
  }
 ],
 "metadata": {
  "kernelspec": {
   "display_name": "Python 3 (ipykernel)",
   "language": "python",
   "name": "python3"
  },
  "language_info": {
   "codemirror_mode": {
    "name": "ipython",
    "version": 3
   },
   "file_extension": ".py",
   "mimetype": "text/x-python",
   "name": "python",
   "nbconvert_exporter": "python",
   "pygments_lexer": "ipython3",
   "version": "3.10.9"
  }
 },
 "nbformat": 4,
 "nbformat_minor": 5
}
